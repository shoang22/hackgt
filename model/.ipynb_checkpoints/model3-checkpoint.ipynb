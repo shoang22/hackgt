{
 "cells": [
  {
   "cell_type": "code",
   "execution_count": 1,
   "metadata": {},
   "outputs": [
    {
     "name": "stderr",
     "output_type": "stream",
     "text": [
      "[nltk_data] Downloading package stopwords to\n",
      "[nltk_data]     C:\\Users\\15714\\AppData\\Roaming\\nltk_data...\n",
      "[nltk_data]   Package stopwords is already up-to-date!\n",
      "[nltk_data] Downloading package wordnet to\n",
      "[nltk_data]     C:\\Users\\15714\\AppData\\Roaming\\nltk_data...\n",
      "[nltk_data]   Package wordnet is already up-to-date!\n"
     ]
    }
   ],
   "source": [
    "import numpy as np\n",
    "import pandas as pd\n",
    "import matplotlib.pyplot as plt\n",
    "from tensorflow.keras.preprocessing.text import Tokenizer\n",
    "from tensorflow.keras.preprocessing.sequence import pad_sequences\n",
    "from tensorflow.keras.layers import Dense, Input, LSTM, Embedding, Dropout, Activation\n",
    "from tensorflow.keras.layers import Bidirectional, GlobalMaxPool1D\n",
    "from tensorflow.keras.models import Model\n",
    "from tensorflow.keras import initializers, regularizers, constraints, optimizers, layers\n",
    "\n",
    "## for plotting\n",
    "import matplotlib.pyplot as plt\n",
    "import seaborn as sns\n",
    "\n",
    "## for processing\n",
    "import re\n",
    "import nltk\n",
    "nltk.download('stopwords')\n",
    "nltk.download('wordnet')\n",
    "\n",
    "from time import time\n",
    "from gensim.models.phrases import Phrases, Phraser\n",
    "import spacy  # For preprocessing\n",
    "import en_core_web_sm\n",
    "\n",
    "## for bag-of-words\n",
    "from sklearn import feature_extraction, model_selection, naive_bayes, pipeline, manifold, preprocessing\n",
    "\n",
    "## for explainer\n",
    "from lime import lime_text\n",
    "\n",
    "## for word embedding\n",
    "import gensim\n",
    "import gensim.downloader as gensim_api"
   ]
  },
  {
   "cell_type": "code",
   "execution_count": 2,
   "metadata": {},
   "outputs": [
    {
     "data": {
      "text/plain": [
       "Index(['created_at', 'text', 'is_quote_status', 'has_description',\n",
       "       'word_count', 'retweet_count', 'favorite_count', 'possibly_sensitive',\n",
       "       'user.name', 'user.screen_name', 'user.location', 'user.description',\n",
       "       'user.followers_count', 'user.friends_count', 'user.listed_count',\n",
       "       'user.created_at', 'user.favourites_count', 'user.statuses_count',\n",
       "       'user.profile_background_image_url',\n",
       "       'user.profile_background_image_url_https', 'user.profile_banner_url',\n",
       "       'real', 'hashtags', 'user', 'hash_count', 'mentions_count'],\n",
       "      dtype='object')"
      ]
     },
     "execution_count": 2,
     "metadata": {},
     "output_type": "execute_result"
    }
   ],
   "source": [
    "df = pd.read_csv('data_cleaned.csv',index_col=0)\n",
    "df.columns"
   ]
  },
  {
   "cell_type": "code",
   "execution_count": 3,
   "metadata": {},
   "outputs": [
    {
     "data": {
      "text/plain": [
       "0        Drinking methanol, ethanol or bleach DOES NOT ...\n",
       "1        Two drugs show promise against COVID- Both dru...\n",
       "2        COVID- Daily Be Wary of New Treatments, HCW In...\n",
       "3        Especially this year and in this pandemic, man...\n",
       "4        Tuberculosis cases and deaths predicted to spi...\n",
       "                               ...                        \n",
       "10673    RT  oh my god Namjoon please no put down the c...\n",
       "10674                                        -Michigan s… \n",
       "10675        How can we have testing kits prepared for ...\n",
       "10676    \\n“We’ve tested more than every country combin...\n",
       "10677         - Thousands of Muslims in NJ cheered on \\...\n",
       "Name: text, Length: 10678, dtype: object"
      ]
     },
     "execution_count": 3,
     "metadata": {},
     "output_type": "execute_result"
    }
   ],
   "source": [
    "df['text']"
   ]
  },
  {
   "cell_type": "code",
   "execution_count": 4,
   "metadata": {},
   "outputs": [],
   "source": [
    "nlp = en_core_web_sm.load()\n",
    "\n",
    "nlp = spacy.load(\"en_core_web_sm\", disable=[\"parser\", \"ner\"])\n",
    "#https://spacy.io/usage/linguistic-features\n",
    "    #Text: The original word text.\n",
    "    #Lemma: The base form of the word.\n",
    "    #POS: The simple UPOS part-of-speech tag.\n",
    "    #Tag: The detailed part-of-speech tag.\n",
    "    #Dep: Syntactic dependency, i.e. the relation between tokens.\n",
    "    #Shape: The word shape – capitalization, punctuation, digits.\n",
    "    #is alpha: Is the token an alpha character?\n",
    "    #is stop: Is the token part of a stop list, i.e. the most common words of the language?\n",
    "\n",
    "def cleaning(doc):\n",
    "    # Lemmatizes and removes stopwords\n",
    "    # doc needs to be a spacy Doc object\n",
    "    txt = [token.lemma_ for token in doc if not token.is_stop]\n",
    "    # Word2Vec uses context words to learn the vector representation of a target word,\n",
    "    # if a sentence is only one or two words long,\n",
    "    # the benefit for the training is very small\n",
    "    if len(txt) > 2:\n",
    "        return ' '.join(txt)\n",
    "\n",
    "    \n",
    "# re - regex sub    \n",
    "brief_cleaning = (re.sub(\"[^A-Za-z']+\", ' ', str(row)).lower() for row in df['text'])"
   ]
  },
  {
   "cell_type": "code",
   "execution_count": 5,
   "metadata": {},
   "outputs": [
    {
     "name": "stdout",
     "output_type": "stream",
     "text": [
      "Time to clean up everything: 0.1 mins\n"
     ]
    }
   ],
   "source": [
    "t = time()\n",
    "\n",
    "txt = [cleaning(doc) for doc in nlp.pipe(brief_cleaning, batch_size=5000, n_threads=-1)]\n",
    "\n",
    "print('Time to clean up everything: {} mins'.format(round((time() - t) / 60, 2)))"
   ]
  },
  {
   "cell_type": "code",
   "execution_count": 13,
   "metadata": {},
   "outputs": [
    {
     "data": {
      "text/plain": [
       "['drink methanol ethanol bleach prevent cure covid extremely dangerous',\n",
       " 'drug promise covid drug fda approve illness',\n",
       " 'covid daily wary new treatment hcw infection',\n",
       " 'especially year pandemic people s business job include friend strugg',\n",
       " 'tuberculosis case death predict spike covid',\n",
       " '  country implement hard lock down early co',\n",
       " '  q regularly rinse nose saline solution h',\n",
       " 'nearly india total coronavirus case report june covid spread indi',\n",
       " 'q spread coin banknote coronavirus knowthefacts stanmoreuk',\n",
       " '  discovery lead cdc face o']"
      ]
     },
     "execution_count": 13,
     "metadata": {},
     "output_type": "execute_result"
    }
   ],
   "source": [
    "txt[:10]"
   ]
  },
  {
   "cell_type": "code",
   "execution_count": 14,
   "metadata": {},
   "outputs": [],
   "source": [
    "from gensim.models.phrases import Phrases, Phraser\n",
    "df_clean = pd.DataFrame({'text':df['text'],'text_clean':txt,'real':df['real']})\n",
    "df_clean.dropna(subset=['text_clean'],inplace=True)"
   ]
  },
  {
   "cell_type": "code",
   "execution_count": 15,
   "metadata": {},
   "outputs": [],
   "source": [
    "## split dataset\n",
    "df_train, df_test = model_selection.train_test_split(df_clean, test_size=0.3)\n",
    "## get target\n",
    "y_train = df_train[\"real\"].values\n",
    "y_test = df_test[\"real\"].values"
   ]
  },
  {
   "cell_type": "code",
   "execution_count": 16,
   "metadata": {},
   "outputs": [],
   "source": [
    "tweets_train = df_train['text_clean']\n",
    "tweets_test = df_test['text_clean']"
   ]
  },
  {
   "cell_type": "code",
   "execution_count": 17,
   "metadata": {},
   "outputs": [],
   "source": [
    "y = df_train['real']"
   ]
  },
  {
   "cell_type": "code",
   "execution_count": 18,
   "metadata": {},
   "outputs": [],
   "source": [
    "max_features = 20000\n",
    "tokenizer = Tokenizer(num_words=max_features)\n",
    "tokenizer.fit_on_texts(list(tweets_train))\n",
    "list_tokenized_train = tokenizer.texts_to_sequences(tweets_train)\n",
    "list_tokenized_test = tokenizer.texts_to_sequences(tweets_test)"
   ]
  },
  {
   "cell_type": "code",
   "execution_count": 26,
   "metadata": {},
   "outputs": [],
   "source": [
    "# tokenizer.word_counts"
   ]
  },
  {
   "cell_type": "code",
   "execution_count": 27,
   "metadata": {},
   "outputs": [
    {
     "data": {
      "text/plain": [
       "[[41, 527, 1643]]"
      ]
     },
     "execution_count": 27,
     "metadata": {},
     "output_type": "execute_result"
    }
   ],
   "source": [
    "list_tokenized_train[:1]"
   ]
  },
  {
   "cell_type": "code",
   "execution_count": 28,
   "metadata": {},
   "outputs": [],
   "source": [
    "# need to make vectors the same size\n",
    "maxlen = 200\n",
    "X_train = pad_sequences(list_tokenized_train, maxlen=maxlen)\n",
    "X_test = pad_sequences(list_tokenized_test, maxlen=maxlen)"
   ]
  },
  {
   "cell_type": "code",
   "execution_count": 29,
   "metadata": {},
   "outputs": [],
   "source": [
    "# how do we know to use 200 as max length of vectors?\n",
    "# see distribution of number of words in comments\n",
    "total_wordcount = [len(one_comment) for one_comment in list_tokenized_train]"
   ]
  },
  {
   "cell_type": "code",
   "execution_count": 30,
   "metadata": {},
   "outputs": [
    {
     "data": {
      "text/plain": [
       "(array([4214., 2958.,   34.,    0.,    0.,    0.,    0.,    0.,    0.,\n",
       "           0.,    0.,    0.,    0.,    0.,    0.,    0.,    0.,    0.,\n",
       "           0.,    0.,    0.,    0.,    0.,    0.,    0.,    0.,    0.,\n",
       "           0.,    0.,    0.,    0.,    0.,    0.,    0.,    0.,    0.,\n",
       "           0.,    0.,    0.,    0.]),\n",
       " array([  0,  10,  20,  30,  40,  50,  60,  70,  80,  90, 100, 110, 120,\n",
       "        130, 140, 150, 160, 170, 180, 190, 200, 210, 220, 230, 240, 250,\n",
       "        260, 270, 280, 290, 300, 310, 320, 330, 340, 350, 360, 370, 380,\n",
       "        390, 400]),\n",
       " <BarContainer object of 40 artists>)"
      ]
     },
     "execution_count": 30,
     "metadata": {},
     "output_type": "execute_result"
    },
    {
     "data": {
      "image/png": "[encoded data removed]",
      "text/plain": [
       "<Figure size 432x288 with 1 Axes>"
      ]
     },
     "metadata": {
      "needs_background": "light"
     },
     "output_type": "display_data"
    }
   ],
   "source": [
    "# view sentence length distribution\n",
    "plt.hist(total_wordcount, bins = np.arange(0,410,10))"
   ]
  },
  {
   "cell_type": "code",
   "execution_count": 31,
   "metadata": {},
   "outputs": [],
   "source": [
    "inp = Input(shape=(maxlen,))\n",
    "\n",
    "embed_size = 128\n",
    "x = Embedding(max_features,embed_size)(inp)\n",
    "\n",
    "x = LSTM(10, return_sequences=True,name='lstm_layer')(x)\n",
    "x = GlobalMaxPool1D()(x)\n",
    "x = Dropout(0.1)(x)\n",
    "x = Dense(9,activation='relu')(x)\n",
    "\n",
    "x = Dropout(0.1)(x)\n",
    "x = Dense(1,activation='sigmoid')(x)\n",
    "\n",
    "model = Model(inputs=inp,outputs=x)\n",
    "model.compile(loss='binary_crossentropy',\n",
    "             optimizer='adam',\n",
    "             metrics=['accuracy'])"
   ]
  },
  {
   "cell_type": "code",
   "execution_count": 32,
   "metadata": {},
   "outputs": [],
   "source": [
    "from tensorflow.keras.callbacks import EarlyStopping\n",
    "early_stop = EarlyStopping(monitor='val_loss',verbose=1,patience=3)"
   ]
  },
  {
   "cell_type": "code",
   "execution_count": 33,
   "metadata": {},
   "outputs": [
    {
     "name": "stdout",
     "output_type": "stream",
     "text": [
      "Train on 6485 samples, validate on 721 samples\n",
      "Epoch 1/100\n",
      "6485/6485 [==============================] - 13s 2ms/sample - loss: 0.4168 - accuracy: 0.8469 - val_loss: 0.1536 - val_accuracy: 0.9584\n",
      "Epoch 2/100\n",
      "6485/6485 [==============================] - 11s 2ms/sample - loss: 0.1037 - accuracy: 0.9698 - val_loss: 0.1544 - val_accuracy: 0.9487\n",
      "Epoch 3/100\n",
      "6485/6485 [==============================] - 11s 2ms/sample - loss: 0.0398 - accuracy: 0.9912 - val_loss: 0.1997 - val_accuracy: 0.9376\n",
      "Epoch 4/100\n",
      "6485/6485 [==============================] - 11s 2ms/sample - loss: 0.0208 - accuracy: 0.9960 - val_loss: 0.2442 - val_accuracy: 0.9348\n",
      "Epoch 00004: early stopping\n"
     ]
    },
    {
     "data": {
      "text/plain": [
       "<tensorflow.python.keras.callbacks.History at 0x153b91a3708>"
      ]
     },
     "execution_count": 33,
     "metadata": {},
     "output_type": "execute_result"
    }
   ],
   "source": [
    "batch_size = 32\n",
    "epochs = 100\n",
    "model.fit(X_train,y,batch_size=batch_size,epochs=epochs,validation_split=0.1,callbacks=[early_stop])"
   ]
  },
  {
   "cell_type": "code",
   "execution_count": 34,
   "metadata": {},
   "outputs": [
    {
     "data": {
      "text/plain": [
       "<AxesSubplot:>"
      ]
     },
     "execution_count": 34,
     "metadata": {},
     "output_type": "execute_result"
    },
    {
     "data": {
      "image/png": "[encoded data removed]",
      "text/plain": [
       "<Figure size 432x288 with 1 Axes>"
      ]
     },
     "metadata": {
      "needs_background": "light"
     },
     "output_type": "display_data"
    }
   ],
   "source": [
    "model_loss = pd.DataFrame(model.history.history)\n",
    "model_loss.plot()"
   ]
  },
  {
   "cell_type": "code",
   "execution_count": 35,
   "metadata": {},
   "outputs": [
    {
     "data": {
      "text/plain": [
       "array([[9.9849761e-01],\n",
       "       [7.3270686e-04],\n",
       "       [7.8369898e-04],\n",
       "       ...,\n",
       "       [1.0855213e-03],\n",
       "       [1.5650615e-03],\n",
       "       [6.3849497e-03]], dtype=float32)"
      ]
     },
     "execution_count": 35,
     "metadata": {},
     "output_type": "execute_result"
    }
   ],
   "source": [
    "predicted_prob = model.predict(X_test)\n",
    "predicted_prob"
   ]
  },
  {
   "cell_type": "code",
   "execution_count": 38,
   "metadata": {},
   "outputs": [],
   "source": [
    "predicted = [] #create binary values\n",
    "\n",
    "for x in predicted_prob:\n",
    "    if x < .5:\n",
    "        predicted.append(0)\n",
    "    elif x >= .5:\n",
    "        predicted.append(1)"
   ]
  },
  {
   "cell_type": "code",
   "execution_count": 40,
   "metadata": {},
   "outputs": [
    {
     "data": {
      "text/plain": [
       "[1, 0, 0, 0, 1, 0, 1, 1, 0, 1]"
      ]
     },
     "execution_count": 40,
     "metadata": {},
     "output_type": "execute_result"
    }
   ],
   "source": [
    "predicted[:10]"
   ]
  },
  {
   "cell_type": "code",
   "execution_count": 41,
   "metadata": {},
   "outputs": [
    {
     "name": "stdout",
     "output_type": "stream",
     "text": [
      "              precision    recall  f1-score   support\n",
      "\n",
      "           0       0.97      0.93      0.95      1518\n",
      "           1       0.94      0.97      0.96      1571\n",
      "\n",
      "    accuracy                           0.95      3089\n",
      "   macro avg       0.95      0.95      0.95      3089\n",
      "weighted avg       0.95      0.95      0.95      3089\n",
      "\n",
      "[[1418  100]\n",
      " [  42 1529]]\n"
     ]
    }
   ],
   "source": [
    "from sklearn.metrics import classification_report,confusion_matrix\n",
    "\n",
    "print(classification_report(y_test,predicted))\n",
    "print(confusion_matrix(y_test,predicted))"
   ]
  },
  {
   "cell_type": "code",
   "execution_count": 23,
   "metadata": {},
   "outputs": [],
   "source": [
    "# model.save('solis_model.h5')"
   ]
  },
  {
   "cell_type": "markdown",
   "metadata": {},
   "source": [
    "# Next steps\n",
    "\n",
    "Create visualization from actual data to support model\n",
    "- visualize actual data\n",
    "- network analysis (?)\n",
    "- performance of neural network\n",
    "    - find another dataset to validate\n",
    "        - if network "
   ]
  },
  {
   "cell_type": "code",
   "execution_count": null,
   "metadata": {},
   "outputs": [],
   "source": []
  }
 ],
 "metadata": {
  "kernelspec": {
   "display_name": "cds490",
   "language": "python",
   "name": "cds490"
  },
  "language_info": {
   "codemirror_mode": {
    "name": "ipython",
    "version": 3
   },
   "file_extension": ".py",
   "mimetype": "text/x-python",
   "name": "python",
   "nbconvert_exporter": "python",
   "pygments_lexer": "ipython3",
   "version": "3.7.9"
  }
 },
 "nbformat": 4,
 "nbformat_minor": 4
}
