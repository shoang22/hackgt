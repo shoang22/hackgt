{
 "cells": [
  {
   "cell_type": "code",
   "execution_count": 1,
   "metadata": {},
   "outputs": [
    {
     "name": "stderr",
     "output_type": "stream",
     "text": [
      "\n",
      "Bad key savefig.frameon in file C:\\Users\\15714\\anaconda3\\envs\\cds490\\lib\\site-packages\\matplotlib\\mpl-data\\stylelib\\_classic_test.mplstyle, line 421 ('savefig.frameon : True')\n",
      "You probably need to get an updated matplotlibrc file from\n",
      "https://github.com/matplotlib/matplotlib/blob/v3.3.1/matplotlibrc.template\n",
      "or from the matplotlib source distribution\n",
      "\n",
      "Bad key verbose.level in file C:\\Users\\15714\\anaconda3\\envs\\cds490\\lib\\site-packages\\matplotlib\\mpl-data\\stylelib\\_classic_test.mplstyle, line 472 ('verbose.level  : silent      # one of silent, helpful, debug, debug-annoying')\n",
      "You probably need to get an updated matplotlibrc file from\n",
      "https://github.com/matplotlib/matplotlib/blob/v3.3.1/matplotlibrc.template\n",
      "or from the matplotlib source distribution\n",
      "\n",
      "Bad key verbose.fileo in file C:\\Users\\15714\\anaconda3\\envs\\cds490\\lib\\site-packages\\matplotlib\\mpl-data\\stylelib\\_classic_test.mplstyle, line 473 ('verbose.fileo  : sys.stdout  # a log filename, sys.stdout or sys.stderr')\n",
      "You probably need to get an updated matplotlibrc file from\n",
      "https://github.com/matplotlib/matplotlib/blob/v3.3.1/matplotlibrc.template\n",
      "or from the matplotlib source distribution\n",
      "In C:\\Users\\15714\\anaconda3\\envs\\cds490\\lib\\site-packages\\matplotlib\\mpl-data\\stylelib\\_classic_test.mplstyle: \n",
      "The text.latex.preview rcparam was deprecated in Matplotlib 3.3 and will be removed two minor releases later.\n",
      "In C:\\Users\\15714\\anaconda3\\envs\\cds490\\lib\\site-packages\\matplotlib\\mpl-data\\stylelib\\_classic_test.mplstyle: \n",
      "The mathtext.fallback_to_cm rcparam was deprecated in Matplotlib 3.3 and will be removed two minor releases later.\n",
      "In C:\\Users\\15714\\anaconda3\\envs\\cds490\\lib\\site-packages\\matplotlib\\mpl-data\\stylelib\\_classic_test.mplstyle: Support for setting the 'mathtext.fallback_to_cm' rcParam is deprecated since 3.3 and will be removed two minor releases later; use 'mathtext.fallback : 'cm' instead.\n",
      "In C:\\Users\\15714\\anaconda3\\envs\\cds490\\lib\\site-packages\\matplotlib\\mpl-data\\stylelib\\_classic_test.mplstyle: \n",
      "The validate_bool_maybe_none function was deprecated in Matplotlib 3.3 and will be removed two minor releases later.\n",
      "In C:\\Users\\15714\\anaconda3\\envs\\cds490\\lib\\site-packages\\matplotlib\\mpl-data\\stylelib\\_classic_test.mplstyle: \n",
      "The savefig.jpeg_quality rcparam was deprecated in Matplotlib 3.3 and will be removed two minor releases later.\n",
      "In C:\\Users\\15714\\anaconda3\\envs\\cds490\\lib\\site-packages\\matplotlib\\mpl-data\\stylelib\\_classic_test.mplstyle: \n",
      "The keymap.all_axes rcparam was deprecated in Matplotlib 3.3 and will be removed two minor releases later.\n",
      "In C:\\Users\\15714\\anaconda3\\envs\\cds490\\lib\\site-packages\\matplotlib\\mpl-data\\stylelib\\_classic_test.mplstyle: \n",
      "The animation.avconv_path rcparam was deprecated in Matplotlib 3.3 and will be removed two minor releases later.\n",
      "In C:\\Users\\15714\\anaconda3\\envs\\cds490\\lib\\site-packages\\matplotlib\\mpl-data\\stylelib\\_classic_test.mplstyle: \n",
      "The animation.avconv_args rcparam was deprecated in Matplotlib 3.3 and will be removed two minor releases later.\n",
      "[nltk_data] Downloading package stopwords to\n",
      "[nltk_data]     C:\\Users\\15714\\AppData\\Roaming\\nltk_data...\n",
      "[nltk_data]   Package stopwords is already up-to-date!\n",
      "[nltk_data] Downloading package wordnet to\n",
      "[nltk_data]     C:\\Users\\15714\\AppData\\Roaming\\nltk_data...\n",
      "[nltk_data]   Package wordnet is already up-to-date!\n"
     ]
    }
   ],
   "source": [
    "import numpy as np\n",
    "import pandas as pd\n",
    "import matplotlib.pyplot as plt\n",
    "from tensorflow.keras.preprocessing.text import Tokenizer\n",
    "from tensorflow.keras.preprocessing.sequence import pad_sequences\n",
    "from tensorflow.keras.layers import Dense, Input, LSTM, Embedding, Dropout, Activation\n",
    "from tensorflow.keras.layers import Bidirectional, GlobalMaxPool1D\n",
    "from tensorflow.keras.models import Model\n",
    "from tensorflow.keras import initializers, regularizers, constraints, optimizers, layers\n",
    "\n",
    "## for plotting\n",
    "import matplotlib.pyplot as plt\n",
    "import seaborn as sns\n",
    "\n",
    "## for processing\n",
    "import re\n",
    "import nltk\n",
    "nltk.download('stopwords')\n",
    "nltk.download('wordnet')\n",
    "\n",
    "from time import time\n",
    "from gensim.models.phrases import Phrases, Phraser\n",
    "import spacy  # For preprocessing\n",
    "import en_core_web_sm\n",
    "\n",
    "## for bag-of-words\n",
    "from sklearn import feature_extraction, model_selection, naive_bayes, pipeline, manifold, preprocessing\n",
    "\n",
    "## for explainer\n",
    "from lime import lime_text\n",
    "\n",
    "## for word embedding\n",
    "import gensim\n",
    "import gensim.downloader as gensim_api"
   ]
  },
  {
   "cell_type": "code",
   "execution_count": 8,
   "metadata": {},
   "outputs": [
    {
     "name": "stderr",
     "output_type": "stream",
     "text": [
      "C:\\Users\\15714\\anaconda3\\envs\\cds490\\lib\\site-packages\\IPython\\core\\interactiveshell.py:3146: DtypeWarning: Columns (60,216,266,286,287,298,299,300,301,302,303,304,305,306,307,320,321,322,323,324,325,326,327,328,329,332,333,334,335,336,337,338,339,340,341,342,343,344,345,346,347,348,349,350) have mixed types.Specify dtype option on import or set low_memory=False.\n",
      "  interactivity=interactivity, compiler=compiler, result=result)\n"
     ]
    },
    {
     "data": {
      "text/html": [
       "<div>\n",
       "<style scoped>\n",
       "    .dataframe tbody tr th:only-of-type {\n",
       "        vertical-align: middle;\n",
       "    }\n",
       "\n",
       "    .dataframe tbody tr th {\n",
       "        vertical-align: top;\n",
       "    }\n",
       "\n",
       "    .dataframe thead th {\n",
       "        text-align: right;\n",
       "    }\n",
       "</style>\n",
       "<table border=\"1\" class=\"dataframe\">\n",
       "  <thead>\n",
       "    <tr style=\"text-align: right;\">\n",
       "      <th></th>\n",
       "      <th>Unnamed: 0</th>\n",
       "      <th>created_at</th>\n",
       "      <th>id</th>\n",
       "      <th>id_str</th>\n",
       "      <th>text</th>\n",
       "      <th>truncated</th>\n",
       "      <th>source</th>\n",
       "      <th>in_reply_to_status_id</th>\n",
       "      <th>in_reply_to_status_id_str</th>\n",
       "      <th>in_reply_to_user_id</th>\n",
       "      <th>...</th>\n",
       "      <th>coordinates.type</th>\n",
       "      <th>coordinates.coordinates</th>\n",
       "      <th>retweeted_status.geo.type</th>\n",
       "      <th>retweeted_status.geo.coordinates</th>\n",
       "      <th>retweeted_status.coordinates.type</th>\n",
       "      <th>retweeted_status.coordinates.coordinates</th>\n",
       "      <th>quoted_status.user.withheld_in_countries</th>\n",
       "      <th>quoted_status.withheld_in_countries</th>\n",
       "      <th>0</th>\n",
       "      <th>1</th>\n",
       "    </tr>\n",
       "  </thead>\n",
       "  <tbody>\n",
       "    <tr>\n",
       "      <th>0</th>\n",
       "      <td>0</td>\n",
       "      <td>Fri Oct 16 04:25:16 +0000 2020</td>\n",
       "      <td>1316958361905188864</td>\n",
       "      <td>1316958361905188864</td>\n",
       "      <td>RT @nytimes: If you missed Joe Biden's town ha...</td>\n",
       "      <td>False</td>\n",
       "      <td>&lt;a href=\"http://twitter.com/download/iphone\" r...</td>\n",
       "      <td>NaN</td>\n",
       "      <td>NaN</td>\n",
       "      <td>NaN</td>\n",
       "      <td>...</td>\n",
       "      <td>NaN</td>\n",
       "      <td>NaN</td>\n",
       "      <td>NaN</td>\n",
       "      <td>NaN</td>\n",
       "      <td>NaN</td>\n",
       "      <td>NaN</td>\n",
       "      <td>NaN</td>\n",
       "      <td>NaN</td>\n",
       "      <td>1316958353482985474</td>\n",
       "      <td>0.045455</td>\n",
       "    </tr>\n",
       "    <tr>\n",
       "      <th>1</th>\n",
       "      <td>1</td>\n",
       "      <td>Fri Oct 16 04:25:16 +0000 2020</td>\n",
       "      <td>1316958365034156032</td>\n",
       "      <td>1316958365034156032</td>\n",
       "      <td>RT @ConsciousEvolu1: CONFIRMED! Gilead's REMSD...</td>\n",
       "      <td>False</td>\n",
       "      <td>&lt;a href=\"http://twitter.com/#!/download/ipad\" ...</td>\n",
       "      <td>NaN</td>\n",
       "      <td>NaN</td>\n",
       "      <td>NaN</td>\n",
       "      <td>...</td>\n",
       "      <td>NaN</td>\n",
       "      <td>NaN</td>\n",
       "      <td>NaN</td>\n",
       "      <td>NaN</td>\n",
       "      <td>NaN</td>\n",
       "      <td>NaN</td>\n",
       "      <td>NaN</td>\n",
       "      <td>NaN</td>\n",
       "      <td>1316958353667592193</td>\n",
       "      <td>0.000000</td>\n",
       "    </tr>\n",
       "    <tr>\n",
       "      <th>2</th>\n",
       "      <td>2</td>\n",
       "      <td>Fri Oct 16 04:25:14 +0000 2020</td>\n",
       "      <td>1316958357056573440</td>\n",
       "      <td>1316958357056573440</td>\n",
       "      <td>RT @greglaurie: It’s encouraging to me to hear...</td>\n",
       "      <td>False</td>\n",
       "      <td>&lt;a href=\"http://twitter.com/download/iphone\" r...</td>\n",
       "      <td>NaN</td>\n",
       "      <td>NaN</td>\n",
       "      <td>NaN</td>\n",
       "      <td>...</td>\n",
       "      <td>NaN</td>\n",
       "      <td>NaN</td>\n",
       "      <td>NaN</td>\n",
       "      <td>NaN</td>\n",
       "      <td>NaN</td>\n",
       "      <td>NaN</td>\n",
       "      <td>NaN</td>\n",
       "      <td>NaN</td>\n",
       "      <td>1316958353948540929</td>\n",
       "      <td>-0.155556</td>\n",
       "    </tr>\n",
       "    <tr>\n",
       "      <th>3</th>\n",
       "      <td>3</td>\n",
       "      <td>Fri Oct 16 04:25:15 +0000 2020</td>\n",
       "      <td>1316958359933898754</td>\n",
       "      <td>1316958359933898754</td>\n",
       "      <td>RT @CNN: Facts First: Trump’s claim is false. ...</td>\n",
       "      <td>False</td>\n",
       "      <td>&lt;a href=\"http://twitter.com/#!/download/ipad\" ...</td>\n",
       "      <td>NaN</td>\n",
       "      <td>NaN</td>\n",
       "      <td>NaN</td>\n",
       "      <td>...</td>\n",
       "      <td>NaN</td>\n",
       "      <td>NaN</td>\n",
       "      <td>NaN</td>\n",
       "      <td>NaN</td>\n",
       "      <td>NaN</td>\n",
       "      <td>NaN</td>\n",
       "      <td>NaN</td>\n",
       "      <td>NaN</td>\n",
       "      <td>1316958353982181377</td>\n",
       "      <td>-0.333333</td>\n",
       "    </tr>\n",
       "    <tr>\n",
       "      <th>4</th>\n",
       "      <td>4</td>\n",
       "      <td>Fri Oct 16 04:25:14 +0000 2020</td>\n",
       "      <td>1316958355886321666</td>\n",
       "      <td>1316958355886321666</td>\n",
       "      <td>RT @TheLeoTerrell: Just once in your life try ...</td>\n",
       "      <td>False</td>\n",
       "      <td>&lt;a href=\"http://twitter.com/download/android\" ...</td>\n",
       "      <td>NaN</td>\n",
       "      <td>NaN</td>\n",
       "      <td>NaN</td>\n",
       "      <td>...</td>\n",
       "      <td>NaN</td>\n",
       "      <td>NaN</td>\n",
       "      <td>NaN</td>\n",
       "      <td>NaN</td>\n",
       "      <td>NaN</td>\n",
       "      <td>NaN</td>\n",
       "      <td>NaN</td>\n",
       "      <td>NaN</td>\n",
       "      <td>1316958354078617605</td>\n",
       "      <td>0.000000</td>\n",
       "    </tr>\n",
       "    <tr>\n",
       "      <th>...</th>\n",
       "      <td>...</td>\n",
       "      <td>...</td>\n",
       "      <td>...</td>\n",
       "      <td>...</td>\n",
       "      <td>...</td>\n",
       "      <td>...</td>\n",
       "      <td>...</td>\n",
       "      <td>...</td>\n",
       "      <td>...</td>\n",
       "      <td>...</td>\n",
       "      <td>...</td>\n",
       "      <td>...</td>\n",
       "      <td>...</td>\n",
       "      <td>...</td>\n",
       "      <td>...</td>\n",
       "      <td>...</td>\n",
       "      <td>...</td>\n",
       "      <td>...</td>\n",
       "      <td>...</td>\n",
       "      <td>...</td>\n",
       "      <td>...</td>\n",
       "    </tr>\n",
       "    <tr>\n",
       "      <th>90248</th>\n",
       "      <td>90248</td>\n",
       "      <td>Fri Oct 16 05:24:00 +0000 2020</td>\n",
       "      <td>1316973143777546240</td>\n",
       "      <td>1316973143777546240</td>\n",
       "      <td>A thread comparing US COVID19 experience with ...</td>\n",
       "      <td>False</td>\n",
       "      <td>&lt;a href=\"https://twitterrific.com/ios\" rel=\"no...</td>\n",
       "      <td>NaN</td>\n",
       "      <td>NaN</td>\n",
       "      <td>NaN</td>\n",
       "      <td>...</td>\n",
       "      <td>NaN</td>\n",
       "      <td>NaN</td>\n",
       "      <td>NaN</td>\n",
       "      <td>NaN</td>\n",
       "      <td>NaN</td>\n",
       "      <td>NaN</td>\n",
       "      <td>NaN</td>\n",
       "      <td>NaN</td>\n",
       "      <td>1316972693821005825</td>\n",
       "      <td>-0.800000</td>\n",
       "    </tr>\n",
       "    <tr>\n",
       "      <th>90249</th>\n",
       "      <td>90249</td>\n",
       "      <td>Fri Oct 16 05:24:01 +0000 2020</td>\n",
       "      <td>1316973150815518720</td>\n",
       "      <td>1316973150815518720</td>\n",
       "      <td>RT @cleololitax: MY 21st BIRTHDAY IS \\n       ...</td>\n",
       "      <td>False</td>\n",
       "      <td>&lt;a href=\"http://twitter.com/download/android\" ...</td>\n",
       "      <td>NaN</td>\n",
       "      <td>NaN</td>\n",
       "      <td>NaN</td>\n",
       "      <td>...</td>\n",
       "      <td>NaN</td>\n",
       "      <td>NaN</td>\n",
       "      <td>NaN</td>\n",
       "      <td>NaN</td>\n",
       "      <td>NaN</td>\n",
       "      <td>NaN</td>\n",
       "      <td>NaN</td>\n",
       "      <td>NaN</td>\n",
       "      <td>1316972694022356992</td>\n",
       "      <td>0.200000</td>\n",
       "    </tr>\n",
       "    <tr>\n",
       "      <th>90250</th>\n",
       "      <td>90250</td>\n",
       "      <td>Fri Oct 16 05:24:02 +0000 2020</td>\n",
       "      <td>1316973153730629632</td>\n",
       "      <td>1316973153730629632</td>\n",
       "      <td>RT @HillaryClinton: Americans are going hungry...</td>\n",
       "      <td>False</td>\n",
       "      <td>&lt;a href=\"http://twitter.com/download/android\" ...</td>\n",
       "      <td>NaN</td>\n",
       "      <td>NaN</td>\n",
       "      <td>NaN</td>\n",
       "      <td>...</td>\n",
       "      <td>NaN</td>\n",
       "      <td>NaN</td>\n",
       "      <td>NaN</td>\n",
       "      <td>NaN</td>\n",
       "      <td>NaN</td>\n",
       "      <td>NaN</td>\n",
       "      <td>NaN</td>\n",
       "      <td>NaN</td>\n",
       "      <td>1316972694009745409</td>\n",
       "      <td>0.356818</td>\n",
       "    </tr>\n",
       "    <tr>\n",
       "      <th>90251</th>\n",
       "      <td>90251</td>\n",
       "      <td>Fri Oct 16 05:24:02 +0000 2020</td>\n",
       "      <td>1316973154087145473</td>\n",
       "      <td>1316973154087145473</td>\n",
       "      <td>As covid-19 pandemic seems to be in control no...</td>\n",
       "      <td>True</td>\n",
       "      <td>&lt;a href=\"http://twitter.com/download/android\" ...</td>\n",
       "      <td>NaN</td>\n",
       "      <td>NaN</td>\n",
       "      <td>NaN</td>\n",
       "      <td>...</td>\n",
       "      <td>NaN</td>\n",
       "      <td>NaN</td>\n",
       "      <td>NaN</td>\n",
       "      <td>NaN</td>\n",
       "      <td>NaN</td>\n",
       "      <td>NaN</td>\n",
       "      <td>NaN</td>\n",
       "      <td>NaN</td>\n",
       "      <td>1316972694177460225</td>\n",
       "      <td>-0.100000</td>\n",
       "    </tr>\n",
       "    <tr>\n",
       "      <th>90252</th>\n",
       "      <td>90252</td>\n",
       "      <td>Fri Oct 16 05:24:02 +0000 2020</td>\n",
       "      <td>1316973154154283009</td>\n",
       "      <td>1316973154154283009</td>\n",
       "      <td>RT @CumbackNiMagnus: Fret not if we have been ...</td>\n",
       "      <td>False</td>\n",
       "      <td>&lt;a href=\"http://twitter.com/download/android\" ...</td>\n",
       "      <td>NaN</td>\n",
       "      <td>NaN</td>\n",
       "      <td>NaN</td>\n",
       "      <td>...</td>\n",
       "      <td>NaN</td>\n",
       "      <td>NaN</td>\n",
       "      <td>NaN</td>\n",
       "      <td>NaN</td>\n",
       "      <td>NaN</td>\n",
       "      <td>NaN</td>\n",
       "      <td>NaN</td>\n",
       "      <td>NaN</td>\n",
       "      <td>1316972694253035522</td>\n",
       "      <td>-0.500000</td>\n",
       "    </tr>\n",
       "  </tbody>\n",
       "</table>\n",
       "<p>90253 rows × 353 columns</p>\n",
       "</div>"
      ],
      "text/plain": [
       "       Unnamed: 0                      created_at                   id  \\\n",
       "0               0  Fri Oct 16 04:25:16 +0000 2020  1316958361905188864   \n",
       "1               1  Fri Oct 16 04:25:16 +0000 2020  1316958365034156032   \n",
       "2               2  Fri Oct 16 04:25:14 +0000 2020  1316958357056573440   \n",
       "3               3  Fri Oct 16 04:25:15 +0000 2020  1316958359933898754   \n",
       "4               4  Fri Oct 16 04:25:14 +0000 2020  1316958355886321666   \n",
       "...           ...                             ...                  ...   \n",
       "90248       90248  Fri Oct 16 05:24:00 +0000 2020  1316973143777546240   \n",
       "90249       90249  Fri Oct 16 05:24:01 +0000 2020  1316973150815518720   \n",
       "90250       90250  Fri Oct 16 05:24:02 +0000 2020  1316973153730629632   \n",
       "90251       90251  Fri Oct 16 05:24:02 +0000 2020  1316973154087145473   \n",
       "90252       90252  Fri Oct 16 05:24:02 +0000 2020  1316973154154283009   \n",
       "\n",
       "                    id_str                                               text  \\\n",
       "0      1316958361905188864  RT @nytimes: If you missed Joe Biden's town ha...   \n",
       "1      1316958365034156032  RT @ConsciousEvolu1: CONFIRMED! Gilead's REMSD...   \n",
       "2      1316958357056573440  RT @greglaurie: It’s encouraging to me to hear...   \n",
       "3      1316958359933898754  RT @CNN: Facts First: Trump’s claim is false. ...   \n",
       "4      1316958355886321666  RT @TheLeoTerrell: Just once in your life try ...   \n",
       "...                    ...                                                ...   \n",
       "90248  1316973143777546240  A thread comparing US COVID19 experience with ...   \n",
       "90249  1316973150815518720  RT @cleololitax: MY 21st BIRTHDAY IS \\n       ...   \n",
       "90250  1316973153730629632  RT @HillaryClinton: Americans are going hungry...   \n",
       "90251  1316973154087145473  As covid-19 pandemic seems to be in control no...   \n",
       "90252  1316973154154283009  RT @CumbackNiMagnus: Fret not if we have been ...   \n",
       "\n",
       "       truncated                                             source  \\\n",
       "0          False  <a href=\"http://twitter.com/download/iphone\" r...   \n",
       "1          False  <a href=\"http://twitter.com/#!/download/ipad\" ...   \n",
       "2          False  <a href=\"http://twitter.com/download/iphone\" r...   \n",
       "3          False  <a href=\"http://twitter.com/#!/download/ipad\" ...   \n",
       "4          False  <a href=\"http://twitter.com/download/android\" ...   \n",
       "...          ...                                                ...   \n",
       "90248      False  <a href=\"https://twitterrific.com/ios\" rel=\"no...   \n",
       "90249      False  <a href=\"http://twitter.com/download/android\" ...   \n",
       "90250      False  <a href=\"http://twitter.com/download/android\" ...   \n",
       "90251       True  <a href=\"http://twitter.com/download/android\" ...   \n",
       "90252      False  <a href=\"http://twitter.com/download/android\" ...   \n",
       "\n",
       "       in_reply_to_status_id  in_reply_to_status_id_str  in_reply_to_user_id  \\\n",
       "0                        NaN                        NaN                  NaN   \n",
       "1                        NaN                        NaN                  NaN   \n",
       "2                        NaN                        NaN                  NaN   \n",
       "3                        NaN                        NaN                  NaN   \n",
       "4                        NaN                        NaN                  NaN   \n",
       "...                      ...                        ...                  ...   \n",
       "90248                    NaN                        NaN                  NaN   \n",
       "90249                    NaN                        NaN                  NaN   \n",
       "90250                    NaN                        NaN                  NaN   \n",
       "90251                    NaN                        NaN                  NaN   \n",
       "90252                    NaN                        NaN                  NaN   \n",
       "\n",
       "       ...  coordinates.type coordinates.coordinates  \\\n",
       "0      ...               NaN                     NaN   \n",
       "1      ...               NaN                     NaN   \n",
       "2      ...               NaN                     NaN   \n",
       "3      ...               NaN                     NaN   \n",
       "4      ...               NaN                     NaN   \n",
       "...    ...               ...                     ...   \n",
       "90248  ...               NaN                     NaN   \n",
       "90249  ...               NaN                     NaN   \n",
       "90250  ...               NaN                     NaN   \n",
       "90251  ...               NaN                     NaN   \n",
       "90252  ...               NaN                     NaN   \n",
       "\n",
       "       retweeted_status.geo.type  retweeted_status.geo.coordinates  \\\n",
       "0                            NaN                               NaN   \n",
       "1                            NaN                               NaN   \n",
       "2                            NaN                               NaN   \n",
       "3                            NaN                               NaN   \n",
       "4                            NaN                               NaN   \n",
       "...                          ...                               ...   \n",
       "90248                        NaN                               NaN   \n",
       "90249                        NaN                               NaN   \n",
       "90250                        NaN                               NaN   \n",
       "90251                        NaN                               NaN   \n",
       "90252                        NaN                               NaN   \n",
       "\n",
       "       retweeted_status.coordinates.type  \\\n",
       "0                                    NaN   \n",
       "1                                    NaN   \n",
       "2                                    NaN   \n",
       "3                                    NaN   \n",
       "4                                    NaN   \n",
       "...                                  ...   \n",
       "90248                                NaN   \n",
       "90249                                NaN   \n",
       "90250                                NaN   \n",
       "90251                                NaN   \n",
       "90252                                NaN   \n",
       "\n",
       "       retweeted_status.coordinates.coordinates  \\\n",
       "0                                           NaN   \n",
       "1                                           NaN   \n",
       "2                                           NaN   \n",
       "3                                           NaN   \n",
       "4                                           NaN   \n",
       "...                                         ...   \n",
       "90248                                       NaN   \n",
       "90249                                       NaN   \n",
       "90250                                       NaN   \n",
       "90251                                       NaN   \n",
       "90252                                       NaN   \n",
       "\n",
       "       quoted_status.user.withheld_in_countries  \\\n",
       "0                                           NaN   \n",
       "1                                           NaN   \n",
       "2                                           NaN   \n",
       "3                                           NaN   \n",
       "4                                           NaN   \n",
       "...                                         ...   \n",
       "90248                                       NaN   \n",
       "90249                                       NaN   \n",
       "90250                                       NaN   \n",
       "90251                                       NaN   \n",
       "90252                                       NaN   \n",
       "\n",
       "       quoted_status.withheld_in_countries                    0         1  \n",
       "0                                      NaN  1316958353482985474  0.045455  \n",
       "1                                      NaN  1316958353667592193  0.000000  \n",
       "2                                      NaN  1316958353948540929 -0.155556  \n",
       "3                                      NaN  1316958353982181377 -0.333333  \n",
       "4                                      NaN  1316958354078617605  0.000000  \n",
       "...                                    ...                  ...       ...  \n",
       "90248                                  NaN  1316972693821005825 -0.800000  \n",
       "90249                                  NaN  1316972694022356992  0.200000  \n",
       "90250                                  NaN  1316972694009745409  0.356818  \n",
       "90251                                  NaN  1316972694177460225 -0.100000  \n",
       "90252                                  NaN  1316972694253035522 -0.500000  \n",
       "\n",
       "[90253 rows x 353 columns]"
      ]
     },
     "execution_count": 8,
     "metadata": {},
     "output_type": "execute_result"
    }
   ],
   "source": [
    "pd.read_csv('train.csv')"
   ]
  },
  {
   "cell_type": "code",
   "execution_count": 9,
   "metadata": {},
   "outputs": [
    {
     "name": "stderr",
     "output_type": "stream",
     "text": [
      "C:\\Users\\15714\\anaconda3\\envs\\cds490\\lib\\site-packages\\IPython\\core\\interactiveshell.py:3146: DtypeWarning: Columns (60,216,266,286,287,298,299,300,301,302,303,304,305,306,307,320,321,322,323,324,325,326,327,328,329,332,333,334,335,336,337,338,339,340,341,342,343,344,345,346,347,348,349,350) have mixed types.Specify dtype option on import or set low_memory=False.\n",
      "  interactivity=interactivity, compiler=compiler, result=result)\n"
     ]
    },
    {
     "data": {
      "text/plain": [
       "Index(['Unnamed: 0', 'created_at', 'id', 'id_str', 'text', 'truncated',\n",
       "       'source', 'in_reply_to_status_id', 'in_reply_to_status_id_str',\n",
       "       'in_reply_to_user_id',\n",
       "       ...\n",
       "       'coordinates.type', 'coordinates.coordinates',\n",
       "       'retweeted_status.geo.type', 'retweeted_status.geo.coordinates',\n",
       "       'retweeted_status.coordinates.type',\n",
       "       'retweeted_status.coordinates.coordinates',\n",
       "       'quoted_status.user.withheld_in_countries',\n",
       "       'quoted_status.withheld_in_countries', '0', '1'],\n",
       "      dtype='object', length=353)"
      ]
     },
     "execution_count": 9,
     "metadata": {},
     "output_type": "execute_result"
    }
   ],
   "source": [
    "df = pd.read_csv('train.csv')\n",
    "df.columns"
   ]
  },
  {
   "cell_type": "code",
   "execution_count": 10,
   "metadata": {},
   "outputs": [
    {
     "data": {
      "text/plain": [
       "0        RT @nytimes: If you missed Joe Biden's town ha...\n",
       "1        RT @ConsciousEvolu1: CONFIRMED! Gilead's REMSD...\n",
       "2        RT @greglaurie: It’s encouraging to me to hear...\n",
       "3        RT @CNN: Facts First: Trump’s claim is false. ...\n",
       "4        RT @TheLeoTerrell: Just once in your life try ...\n",
       "                               ...                        \n",
       "90248    A thread comparing US COVID19 experience with ...\n",
       "90249    RT @cleololitax: MY 21st BIRTHDAY IS \\n       ...\n",
       "90250    RT @HillaryClinton: Americans are going hungry...\n",
       "90251    As covid-19 pandemic seems to be in control no...\n",
       "90252    RT @CumbackNiMagnus: Fret not if we have been ...\n",
       "Name: text, Length: 90253, dtype: object"
      ]
     },
     "execution_count": 10,
     "metadata": {},
     "output_type": "execute_result"
    }
   ],
   "source": [
    "df['text']"
   ]
  },
  {
   "cell_type": "code",
   "execution_count": 11,
   "metadata": {},
   "outputs": [],
   "source": [
    "nlp = en_core_web_sm.load()\n",
    "\n",
    "nlp = spacy.load(\"en_core_web_sm\", disable=[\"parser\", \"ner\"])\n",
    "#https://spacy.io/usage/linguistic-features\n",
    "    #Text: The original word text.\n",
    "    #Lemma: The base form of the word.\n",
    "    #POS: The simple UPOS part-of-speech tag.\n",
    "    #Tag: The detailed part-of-speech tag.\n",
    "    #Dep: Syntactic dependency, i.e. the relation between tokens.\n",
    "    #Shape: The word shape – capitalization, punctuation, digits.\n",
    "    #is alpha: Is the token an alpha character?\n",
    "    #is stop: Is the token part of a stop list, i.e. the most common words of the language?\n",
    "\n",
    "def cleaning(doc):\n",
    "    # Lemmatizes and removes stopwords\n",
    "    # doc needs to be a spacy Doc object\n",
    "    txt = [token.lemma_ for token in doc if not token.is_stop]\n",
    "    # Word2Vec uses context words to learn the vector representation of a target word,\n",
    "    # if a sentence is only one or two words long,\n",
    "    # the benefit for the training is very small\n",
    "    if len(txt) > 2:\n",
    "        return ' '.join(txt)\n",
    "\n",
    "    \n",
    "# re - regex sub    \n",
    "brief_cleaning = (re.sub(\"[^A-Za-z']+\", ' ', str(row)).lower() for row in df['text'])"
   ]
  },
  {
   "cell_type": "code",
   "execution_count": 12,
   "metadata": {},
   "outputs": [
    {
     "name": "stdout",
     "output_type": "stream",
     "text": [
      "Time to clean up everything: 1.21 mins\n"
     ]
    }
   ],
   "source": [
    "t = time()\n",
    "\n",
    "txt = [cleaning(doc) for doc in nlp.pipe(brief_cleaning, batch_size=5000, n_threads=-1)]\n",
    "\n",
    "print('Time to clean up everything: {} mins'.format(round((time() - t) / 60, 2)))"
   ]
  },
  {
   "cell_type": "code",
   "execution_count": 13,
   "metadata": {},
   "outputs": [
    {
     "data": {
      "text/plain": [
       "['rt nytime miss joe biden town hall say coronavirus vaccine available year ackn',\n",
       " 'rt consciousevolu confirm gilead remsdesivir c vaccine illegally own trump baric nih et al fail large cli',\n",
       " 'rt greglaurie s encouraging hear realdonaldtrump acknowledge need god s help life country face',\n",
       " 'rt cnn fact trump s claim false cdc study release september people wear mask infect',\n",
       " 'rt theleoterrell life try fair trump sharp intelligent true principle opinion lack ob',\n",
       " '  popbase second pandemic arrive',\n",
       " 'rt beowulf week ago trump hold rally mile village county previously virtually covid free massiv',\n",
       " 'rt drestradamus lockdown covid hoax https t co bn q apo',\n",
       " '  jaythebird makersmike alyssa milano yep people brainwash fear facemask win t pr https t co xmbkdtsh',\n",
       " 'rt thedailyshow biden detailed plan combat covid trump qanon actually discover osama bin laden alive pho']"
      ]
     },
     "execution_count": 13,
     "metadata": {},
     "output_type": "execute_result"
    }
   ],
   "source": [
    "txt[:10]"
   ]
  },
  {
   "cell_type": "code",
   "execution_count": 15,
   "metadata": {},
   "outputs": [],
   "source": [
    "df['sentiment'] = df['1']"
   ]
  },
  {
   "cell_type": "code",
   "execution_count": 17,
   "metadata": {},
   "outputs": [],
   "source": [
    "from gensim.models.phrases import Phrases, Phraser\n",
    "df_clean = pd.DataFrame({'text':df['text'],'text_clean':txt,'sentiment':df['sentiment']})\n",
    "df_clean.dropna(subset=['text_clean'],inplace=True)"
   ]
  },
  {
   "cell_type": "code",
   "execution_count": 55,
   "metadata": {},
   "outputs": [],
   "source": [
    "df_clean.loc[df['sentiment'] > 0,'class'] = 1\n",
    "df_clean.loc[(df['sentiment'] == 0), 'class']= 2\n",
    "df_clean.loc[df['sentiment'] < 0, 'class'] = 0\n",
    "\n",
    "df_filtered = df_clean[df_clean['class'] != 2] "
   ]
  },
  {
   "cell_type": "code",
   "execution_count": 56,
   "metadata": {},
   "outputs": [
    {
     "data": {
      "text/html": [
       "<div>\n",
       "<style scoped>\n",
       "    .dataframe tbody tr th:only-of-type {\n",
       "        vertical-align: middle;\n",
       "    }\n",
       "\n",
       "    .dataframe tbody tr th {\n",
       "        vertical-align: top;\n",
       "    }\n",
       "\n",
       "    .dataframe thead th {\n",
       "        text-align: right;\n",
       "    }\n",
       "</style>\n",
       "<table border=\"1\" class=\"dataframe\">\n",
       "  <thead>\n",
       "    <tr style=\"text-align: right;\">\n",
       "      <th></th>\n",
       "      <th>text</th>\n",
       "      <th>text_clean</th>\n",
       "      <th>sentiment</th>\n",
       "      <th>class</th>\n",
       "    </tr>\n",
       "  </thead>\n",
       "  <tbody>\n",
       "    <tr>\n",
       "      <th>0</th>\n",
       "      <td>RT @nytimes: If you missed Joe Biden's town ha...</td>\n",
       "      <td>rt nytime miss joe biden town hall say coronav...</td>\n",
       "      <td>0.045455</td>\n",
       "      <td>1.0</td>\n",
       "    </tr>\n",
       "    <tr>\n",
       "      <th>2</th>\n",
       "      <td>RT @greglaurie: It’s encouraging to me to hear...</td>\n",
       "      <td>rt greglaurie s encouraging hear realdonaldtru...</td>\n",
       "      <td>-0.155556</td>\n",
       "      <td>0.0</td>\n",
       "    </tr>\n",
       "    <tr>\n",
       "      <th>3</th>\n",
       "      <td>RT @CNN: Facts First: Trump’s claim is false. ...</td>\n",
       "      <td>rt cnn fact trump s claim false cdc study rele...</td>\n",
       "      <td>-0.333333</td>\n",
       "      <td>0.0</td>\n",
       "    </tr>\n",
       "    <tr>\n",
       "      <th>5</th>\n",
       "      <td>@PopBase Well the second pandemic has arrived</td>\n",
       "      <td>popbase second pandemic arrive</td>\n",
       "      <td>-0.300000</td>\n",
       "      <td>0.0</td>\n",
       "    </tr>\n",
       "    <tr>\n",
       "      <th>6</th>\n",
       "      <td>RT @beowulf: 3 weeks ago Trump held a rally 4 ...</td>\n",
       "      <td>rt beowulf week ago trump hold rally mile vill...</td>\n",
       "      <td>-0.155556</td>\n",
       "      <td>0.0</td>\n",
       "    </tr>\n",
       "    <tr>\n",
       "      <th>...</th>\n",
       "      <td>...</td>\n",
       "      <td>...</td>\n",
       "      <td>...</td>\n",
       "      <td>...</td>\n",
       "    </tr>\n",
       "    <tr>\n",
       "      <th>90248</th>\n",
       "      <td>A thread comparing US COVID19 experience with ...</td>\n",
       "      <td>thread compare covid experience world nations ...</td>\n",
       "      <td>-0.800000</td>\n",
       "      <td>0.0</td>\n",
       "    </tr>\n",
       "    <tr>\n",
       "      <th>90249</th>\n",
       "      <td>RT @cleololitax: MY 21st BIRTHDAY IS \\n       ...</td>\n",
       "      <td>rt cleololitax st birthday tomorrow help good ...</td>\n",
       "      <td>0.200000</td>\n",
       "      <td>1.0</td>\n",
       "    </tr>\n",
       "    <tr>\n",
       "      <th>90250</th>\n",
       "      <td>RT @HillaryClinton: Americans are going hungry...</td>\n",
       "      <td>rt hillaryclinton americans go hungry electric...</td>\n",
       "      <td>0.356818</td>\n",
       "      <td>1.0</td>\n",
       "    </tr>\n",
       "    <tr>\n",
       "      <th>90251</th>\n",
       "      <td>As covid-19 pandemic seems to be in control no...</td>\n",
       "      <td>covid pandemic control maharshtra government r...</td>\n",
       "      <td>-0.100000</td>\n",
       "      <td>0.0</td>\n",
       "    </tr>\n",
       "    <tr>\n",
       "      <th>90252</th>\n",
       "      <td>RT @CumbackNiMagnus: Fret not if we have been ...</td>\n",
       "      <td>rt cumbacknimagnus fret fuck pandemic straight...</td>\n",
       "      <td>-0.500000</td>\n",
       "      <td>0.0</td>\n",
       "    </tr>\n",
       "  </tbody>\n",
       "</table>\n",
       "<p>53486 rows × 4 columns</p>\n",
       "</div>"
      ],
      "text/plain": [
       "                                                    text  \\\n",
       "0      RT @nytimes: If you missed Joe Biden's town ha...   \n",
       "2      RT @greglaurie: It’s encouraging to me to hear...   \n",
       "3      RT @CNN: Facts First: Trump’s claim is false. ...   \n",
       "5          @PopBase Well the second pandemic has arrived   \n",
       "6      RT @beowulf: 3 weeks ago Trump held a rally 4 ...   \n",
       "...                                                  ...   \n",
       "90248  A thread comparing US COVID19 experience with ...   \n",
       "90249  RT @cleololitax: MY 21st BIRTHDAY IS \\n       ...   \n",
       "90250  RT @HillaryClinton: Americans are going hungry...   \n",
       "90251  As covid-19 pandemic seems to be in control no...   \n",
       "90252  RT @CumbackNiMagnus: Fret not if we have been ...   \n",
       "\n",
       "                                              text_clean  sentiment  class  \n",
       "0      rt nytime miss joe biden town hall say coronav...   0.045455    1.0  \n",
       "2      rt greglaurie s encouraging hear realdonaldtru...  -0.155556    0.0  \n",
       "3      rt cnn fact trump s claim false cdc study rele...  -0.333333    0.0  \n",
       "5                         popbase second pandemic arrive  -0.300000    0.0  \n",
       "6      rt beowulf week ago trump hold rally mile vill...  -0.155556    0.0  \n",
       "...                                                  ...        ...    ...  \n",
       "90248  thread compare covid experience world nations ...  -0.800000    0.0  \n",
       "90249  rt cleololitax st birthday tomorrow help good ...   0.200000    1.0  \n",
       "90250  rt hillaryclinton americans go hungry electric...   0.356818    1.0  \n",
       "90251  covid pandemic control maharshtra government r...  -0.100000    0.0  \n",
       "90252  rt cumbacknimagnus fret fuck pandemic straight...  -0.500000    0.0  \n",
       "\n",
       "[53486 rows x 4 columns]"
      ]
     },
     "execution_count": 56,
     "metadata": {},
     "output_type": "execute_result"
    }
   ],
   "source": [
    "df_filtered"
   ]
  },
  {
   "cell_type": "code",
   "execution_count": 57,
   "metadata": {},
   "outputs": [],
   "source": [
    "## split dataset\n",
    "df_train, df_test = model_selection.train_test_split(df_filtered, test_size=0.3)\n",
    "## get target\n",
    "y_train = df_train[\"class\"].values\n",
    "y_test = df_test[\"class\"].values"
   ]
  },
  {
   "cell_type": "code",
   "execution_count": 58,
   "metadata": {},
   "outputs": [],
   "source": [
    "tweets_train = df_train['text_clean']\n",
    "tweets_test = df_test['text_clean']"
   ]
  },
  {
   "cell_type": "code",
   "execution_count": 59,
   "metadata": {},
   "outputs": [],
   "source": [
    "y = df_train['class']"
   ]
  },
  {
   "cell_type": "code",
   "execution_count": 60,
   "metadata": {},
   "outputs": [],
   "source": [
    "max_features = 20000\n",
    "tokenizer = Tokenizer(num_words=max_features)\n",
    "tokenizer.fit_on_texts(list(tweets_train))\n",
    "list_tokenized_train = tokenizer.texts_to_sequences(tweets_train)\n",
    "list_tokenized_test = tokenizer.texts_to_sequences(tweets_test)"
   ]
  },
  {
   "cell_type": "code",
   "execution_count": 61,
   "metadata": {},
   "outputs": [],
   "source": [
    "# tokenizer.word_counts"
   ]
  },
  {
   "cell_type": "code",
   "execution_count": 62,
   "metadata": {},
   "outputs": [
    {
     "data": {
      "text/plain": [
       "[[1, 968, 218, 409, 525, 230, 1271, 60, 1199, 238, 612, 319]]"
      ]
     },
     "execution_count": 62,
     "metadata": {},
     "output_type": "execute_result"
    }
   ],
   "source": [
    "list_tokenized_train[:1]"
   ]
  },
  {
   "cell_type": "code",
   "execution_count": 63,
   "metadata": {},
   "outputs": [],
   "source": [
    "# need to make vectors the same size\n",
    "maxlen = 200\n",
    "X_train = pad_sequences(list_tokenized_train, maxlen=maxlen)\n",
    "X_test = pad_sequences(list_tokenized_test, maxlen=maxlen)"
   ]
  },
  {
   "cell_type": "code",
   "execution_count": 64,
   "metadata": {},
   "outputs": [],
   "source": [
    "# how do we know to use 200 as max length of vectors?\n",
    "# see distribution of number of words in comments\n",
    "total_wordcount = [len(one_comment) for one_comment in list_tokenized_train]"
   ]
  },
  {
   "cell_type": "code",
   "execution_count": 65,
   "metadata": {},
   "outputs": [
    {
     "data": {
      "text/plain": [
       "(array([ 6063., 31054.,   323.,     0.,     0.,     0.,     0.,     0.,\n",
       "            0.,     0.,     0.,     0.,     0.,     0.,     0.,     0.,\n",
       "            0.,     0.,     0.,     0.,     0.,     0.,     0.,     0.,\n",
       "            0.,     0.,     0.,     0.,     0.,     0.,     0.,     0.,\n",
       "            0.,     0.,     0.,     0.,     0.,     0.,     0.,     0.]),\n",
       " array([  0,  10,  20,  30,  40,  50,  60,  70,  80,  90, 100, 110, 120,\n",
       "        130, 140, 150, 160, 170, 180, 190, 200, 210, 220, 230, 240, 250,\n",
       "        260, 270, 280, 290, 300, 310, 320, 330, 340, 350, 360, 370, 380,\n",
       "        390, 400]),\n",
       " <BarContainer object of 40 artists>)"
      ]
     },
     "execution_count": 65,
     "metadata": {},
     "output_type": "execute_result"
    },
    {
     "data": {
      "image/png": "[encoded data removed]",
      "text/plain": [
       "<Figure size 432x288 with 1 Axes>"
      ]
     },
     "metadata": {
      "needs_background": "light"
     },
     "output_type": "display_data"
    }
   ],
   "source": [
    "# view sentence length distribution\n",
    "plt.hist(total_wordcount, bins = np.arange(0,410,10))"
   ]
  },
  {
   "cell_type": "code",
   "execution_count": 66,
   "metadata": {},
   "outputs": [],
   "source": [
    "inp = Input(shape=(maxlen,))\n",
    "\n",
    "embed_size = 128\n",
    "x = Embedding(max_features,embed_size)(inp)\n",
    "\n",
    "x = LSTM(10, return_sequences=True,name='lstm_layer')(x)\n",
    "x = GlobalMaxPool1D()(x)\n",
    "x = Dropout(0.1)(x)\n",
    "x = Dense(9,activation='relu')(x)\n",
    "\n",
    "x = Dropout(0.1)(x)\n",
    "x = Dense(1,activation='sigmoid')(x)\n",
    "\n",
    "model = Model(inputs=inp,outputs=x)\n",
    "model.compile(loss='binary_crossentropy',\n",
    "             optimizer='adam',\n",
    "             metrics=['accuracy'])"
   ]
  },
  {
   "cell_type": "code",
   "execution_count": 67,
   "metadata": {},
   "outputs": [],
   "source": [
    "from tensorflow.keras.callbacks import EarlyStopping\n",
    "early_stop = EarlyStopping(monitor='val_loss',verbose=1,patience=3)"
   ]
  },
  {
   "cell_type": "code",
   "execution_count": 68,
   "metadata": {},
   "outputs": [
    {
     "name": "stdout",
     "output_type": "stream",
     "text": [
      "Train on 33696 samples, validate on 3744 samples\n",
      "Epoch 1/100\n",
      "33696/33696 [==============================] - 60s 2ms/sample - loss: 0.6544 - accuracy: 0.6430 - val_loss: 0.6576 - val_accuracy: 0.6327\n",
      "Epoch 2/100\n",
      "33696/33696 [==============================] - 59s 2ms/sample - loss: 0.6492 - accuracy: 0.6429 - val_loss: 0.6608 - val_accuracy: 0.6327\n",
      "Epoch 3/100\n",
      "33696/33696 [==============================] - 59s 2ms/sample - loss: 0.6236 - accuracy: 0.6550 - val_loss: 0.6780 - val_accuracy: 0.5975\n",
      "Epoch 4/100\n",
      "33696/33696 [==============================] - 59s 2ms/sample - loss: 0.5830 - accuracy: 0.6957 - val_loss: 0.7147 - val_accuracy: 0.5956\n",
      "Epoch 00004: early stopping\n"
     ]
    },
    {
     "data": {
      "text/plain": [
       "<tensorflow.python.keras.callbacks.History at 0x29a96351208>"
      ]
     },
     "execution_count": 68,
     "metadata": {},
     "output_type": "execute_result"
    }
   ],
   "source": [
    "batch_size = 32\n",
    "epochs = 100\n",
    "model.fit(X_train,y,batch_size=batch_size,epochs=epochs,validation_split=0.1,callbacks=[early_stop])"
   ]
  },
  {
   "cell_type": "code",
   "execution_count": 69,
   "metadata": {},
   "outputs": [
    {
     "data": {
      "text/plain": [
       "<AxesSubplot:>"
      ]
     },
     "execution_count": 69,
     "metadata": {},
     "output_type": "execute_result"
    },
    {
     "data": {
      "image/png": "[encoded data removed]",
      "text/plain": [
       "<Figure size 432x288 with 1 Axes>"
      ]
     },
     "metadata": {
      "needs_background": "light"
     },
     "output_type": "display_data"
    }
   ],
   "source": [
    "model_loss = pd.DataFrame(model.history.history)\n",
    "model_loss.plot()"
   ]
  },
  {
   "cell_type": "code",
   "execution_count": 70,
   "metadata": {},
   "outputs": [
    {
     "data": {
      "text/plain": [
       "array([[0.91539663],\n",
       "       [0.60538346],\n",
       "       [0.8380881 ],\n",
       "       ...,\n",
       "       [0.6614295 ],\n",
       "       [0.8349215 ],\n",
       "       [0.56515384]], dtype=float32)"
      ]
     },
     "execution_count": 70,
     "metadata": {},
     "output_type": "execute_result"
    }
   ],
   "source": [
    "predicted_prob = model.predict(X_test)\n",
    "predicted_prob"
   ]
  },
  {
   "cell_type": "code",
   "execution_count": 71,
   "metadata": {},
   "outputs": [],
   "source": [
    "predicted = [] #create binary values\n",
    "\n",
    "for x in predicted_prob:\n",
    "    if x < .5:\n",
    "        predicted.append(0)\n",
    "    elif x >= .5:\n",
    "        predicted.append(1)"
   ]
  },
  {
   "cell_type": "code",
   "execution_count": 72,
   "metadata": {},
   "outputs": [
    {
     "data": {
      "text/plain": [
       "[1, 1, 1, 1, 1, 1, 0, 1, 1, 1]"
      ]
     },
     "execution_count": 72,
     "metadata": {},
     "output_type": "execute_result"
    }
   ],
   "source": [
    "predicted[:10]"
   ]
  },
  {
   "cell_type": "code",
   "execution_count": 73,
   "metadata": {},
   "outputs": [
    {
     "name": "stdout",
     "output_type": "stream",
     "text": [
      "              precision    recall  f1-score   support\n",
      "\n",
      "         0.0       0.36      0.15      0.21      5795\n",
      "         1.0       0.64      0.85      0.73     10251\n",
      "\n",
      "    accuracy                           0.59     16046\n",
      "   macro avg       0.50      0.50      0.47     16046\n",
      "weighted avg       0.54      0.59      0.54     16046\n",
      "\n",
      "[[ 877 4918]\n",
      " [1582 8669]]\n"
     ]
    }
   ],
   "source": [
    "from sklearn.metrics import classification_report,confusion_matrix\n",
    "\n",
    "print(classification_report(y_test,predicted))\n",
    "print(confusion_matrix(y_test,predicted))"
   ]
  },
  {
   "cell_type": "code",
   "execution_count": 76,
   "metadata": {},
   "outputs": [],
   "source": [
    "model.save('gthack_model.h5')"
   ]
  },
  {
   "cell_type": "markdown",
   "metadata": {},
   "source": [
    "# Next steps\n",
    "\n",
    "Create visualization from actual data to support model\n",
    "- visualize actual data\n",
    "- network analysis (?)\n",
    "- performance of neural network\n",
    "    - find another dataset to validate\n",
    "        - if network "
   ]
  },
  {
   "cell_type": "code",
   "execution_count": 77,
   "metadata": {},
   "outputs": [
    {
     "data": {
      "text/plain": [
       "'C:\\\\Users\\\\15714\\\\Documents\\\\Github\\\\hackgt7\\\\model'"
      ]
     },
     "execution_count": 77,
     "metadata": {},
     "output_type": "execute_result"
    }
   ],
   "source": [
    "pwd"
   ]
  },
  {
   "cell_type": "code",
   "execution_count": null,
   "metadata": {},
   "outputs": [],
   "source": []
  }
 ],
 "metadata": {
  "kernelspec": {
   "display_name": "cds490",
   "language": "python",
   "name": "cds490"
  },
  "language_info": {
   "codemirror_mode": {
    "name": "ipython",
    "version": 3
   },
   "file_extension": ".py",
   "mimetype": "text/x-python",
   "name": "python",
   "nbconvert_exporter": "python",
   "pygments_lexer": "ipython3",
   "version": "3.7.9"
  }
 },
 "nbformat": 4,
 "nbformat_minor": 4
}
